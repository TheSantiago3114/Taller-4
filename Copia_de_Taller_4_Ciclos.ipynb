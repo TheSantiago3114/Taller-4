{
  "cells": [
    {
      "cell_type": "markdown",
      "metadata": {
        "id": "view-in-github",
        "colab_type": "text"
      },
      "source": [
        "<a href=\"https://colab.research.google.com/github/TheSantiago3114/Taller-4/blob/main/Copia_de_Taller_4_Ciclos.ipynb\" target=\"_parent\"><img src=\"https://colab.research.google.com/assets/colab-badge.svg\" alt=\"Open In Colab\"/></a>"
      ]
    },
    {
      "cell_type": "markdown",
      "id": "66beb5a1",
      "metadata": {
        "id": "66beb5a1"
      },
      "source": [
        "# Fundamentos de Programación para Ingeniería Mecánica\n",
        "## UPB Montería - 202310\n",
        "### Taller 4: Ciclos\n",
        "- Docente: Miguel Ortiz (miguel.ortizp@upb.edu.co)"
      ]
    },
    {
      "cell_type": "markdown",
      "id": "b4381f55",
      "metadata": {
        "id": "b4381f55"
      },
      "source": [
        "Datos del Estudiante:\n",
        "- Nombre: Santiago Andres Molina Rodriguez\n",
        "- ID: 000519164\n",
        "- email: santiago.molinar@upb.edu.co"
      ]
    },
    {
      "cell_type": "markdown",
      "id": "433f35a0",
      "metadata": {
        "id": "433f35a0"
      },
      "source": [
        "Resuelva los siguientes ejercicios utilizando estructuras cíclicas y condicionales."
      ]
    },
    {
      "cell_type": "markdown",
      "id": "aead929b",
      "metadata": {
        "id": "aead929b"
      },
      "source": [
        "### Problema 1: Suma de Elementos (30xp)\n",
        "\n",
        "Indique cuál de los dos números ingresados por el usuario tiene una suma de dígitos mayor y la diferencia de estas sumas. Si las sumas de los dígitos son iguales, infórmelo al usuario. \n",
        "\n",
        "**Ejemplo:**\n",
        "\n",
        "```\n",
        "Ingrese el primer número: 23672646\n",
        "Ingrese el segundo número: 12653686\n",
        "La suma de los elementos de la lista 2 es mayor que la suma de los elementos de la lista 1 en 1 unidades.\n",
        "```\n",
        "\n",
        "**Recomendación:** pruebe su algoritmo con listas de prueba:\n",
        "- `lst_1`: lista que representa el primer número. Por ejemplo: dígitos del número de su documento de identidad\n",
        "- `lst_2`: lista que representa el segundo número. Por ejemplo: dígitos del número de su id\n",
        "\n",
        "**Nota:** para leer un número ingresado por el usuario y convertirlo en lista puede utilizar las siguientes instrucciones:\n",
        "\n",
        "```python\n",
        "num = input('Número: ')\n",
        "lst = [int(x) for x in num]\n",
        "```"
      ]
    },
    {
      "cell_type": "code",
      "execution_count": null,
      "id": "85469377",
      "metadata": {
        "id": "85469377",
        "outputId": "b166594c-9401-4450-cc0f-c95d4f9635d6",
        "colab": {
          "base_uri": "https://localhost:8080/"
        }
      },
      "outputs": [
        {
          "output_type": "stream",
          "name": "stdout",
          "text": [
            "la suma del segundo el mayor a la suma del primero\n"
          ]
        }
      ],
      "source": [
        "lst_1 = [2, 3 ,6 , 7, 2, 6, 4, 6]\n",
        "\n",
        "lst_2 = [1, 2, 6, 5, 3, 6, 8, 6]\n",
        "\n",
        "\n",
        "sum_1 = 0\n",
        "\n",
        "sum_2 = 0\n",
        "\n",
        "for i in lst_1:\n",
        "    sum_1 += i\n",
        "\n",
        "for i in lst_2:\n",
        "    sum_2 += i\n",
        "\n",
        "if sum_1 > sum_2:\n",
        " print(\"la suma del primero es mayor a la suma del segundo\")\n",
        "\n",
        "elif sum_2 > sum_1:\n",
        " print(\"la suma del segundo el mayor a la suma del primero\")\n",
        "\n",
        "else:\n",
        "  print(\"la suma de los 2 es igual\")"
      ]
    },
    {
      "cell_type": "markdown",
      "id": "986a4945",
      "metadata": {
        "id": "986a4945"
      },
      "source": [
        "### Problema 2: Suma Objetivo (50xp)\n",
        "\n",
        "Indique si la suma de los dígitos de un número de verificación alcanza un valor objetivo. Si obtiene el valor objetivo antes de finalizar el recorrido por todos los dígitos del número, indique la iteración en la que se obtuvo este valor. Tenga en cuenta que tanto el valor objetivo como el número de verificación son ingresados por el usuario. En cualquiera de los casos, muestre el resultado obtenido de la suma de los dígitos.\n",
        "\n",
        "**Ejemplo:**\n",
        "```\n",
        "Ingrese número de suma objetivo: 15\n",
        "Ingrese número para validar suma de dígitos: 1234562\n",
        "Suma obtenida en iteración 5 de 7\n",
        "Resultado obtenido: 15\n",
        "Alcanzó el valor objetivo.\n",
        "```\n",
        "\n",
        "**Recomendación:** pruebe su algoritmo con números y listas de prueba:\n",
        "- `n_obj`: valor objetivo\n",
        "- `lst`: lista que representa el número de verificación. Por ejemplo: dígitos del número de su id\n",
        "\n",
        "**Nota:** para leer un número ingresado por el usuario y convertirlo en lista puede utilizar las siguientes instrucciones:\n",
        "\n",
        "```python\n",
        "num = input('Número: ')\n",
        "lst = [int(x) for x in num]\n",
        "```"
      ]
    },
    {
      "cell_type": "code",
      "execution_count": 66,
      "id": "895f4399",
      "metadata": {
        "id": "895f4399",
        "colab": {
          "base_uri": "https://localhost:8080/"
        },
        "outputId": "d751a357-231d-4f8d-ac8c-cd44efcc615d"
      },
      "outputs": [
        {
          "output_type": "stream",
          "name": "stdout",
          "text": [
            "Ingrese número de suma objetivo: 15\n",
            "Ingrese número para validar suma de dígitos: 12345\n",
            "El valor objetivo se alcanzó en iteración de:  5 de  5 .\n",
            "La suma de los dígitos del número es  15 .\n"
          ]
        }
      ],
      "source": [
        "n_obj = int(input(\"Ingrese número de suma objetivo: \"))\n",
        "\n",
        "num = input(\"Ingrese número para validar suma de dígitos: \")\n",
        "lst = [int(n) for n in num]\n",
        "\n",
        "suma = 0\n",
        "\n",
        "for i in range(len(lst)):\n",
        "\n",
        "    suma += lst[i]\n",
        "    \n",
        "    if suma >= n_obj or suma == n_obj:\n",
        "      \n",
        "      print(\"El valor objetivo se alcanzó en reiteracion de: \", i + 1, \"de \", max(range(len(lst))) + 1, \".\")\n",
        "      break\n",
        "       \n",
        "print(\"La suma de los dígitos del número es \", suma, \".\")"
      ]
    },
    {
      "cell_type": "markdown",
      "id": "0b532b9b",
      "metadata": {
        "id": "0b532b9b"
      },
      "source": [
        "### Problema 3: Dígito Mayor (40xp)\n",
        "\n",
        "Indique el dígito de mayor valor y su posición en un número ingresado por el usuario. En caso de que el dígito mayor se repita, se debe retornar el índice del primero de ellos que fue encontrado. \n",
        "\n",
        "**Ejemplo:**\n",
        "\n",
        "```\n",
        "Ingrese número: 123753569054\n",
        "El dígito mayor de la lista es 9\n",
        "El número se encontró en la posición 8\n",
        "```\n",
        "\n",
        "**Recomendación:** pruebe su algoritmo con listas de prueba:\n",
        "- `lst`: lista que representa el número a evaluar. Por ejemplo: dígitos del número de su documento de identidad\n",
        "\n",
        "**Nota:** para leer un número ingresado por el usuario y convertirlo en lista puede utilizar las siguientes instrucciones:\n",
        "\n",
        "```python\n",
        "num = input('Número: ')\n",
        "lst = [int(x) for x in num]\n",
        "```"
      ]
    },
    {
      "cell_type": "code",
      "execution_count": 70,
      "id": "9159f388",
      "metadata": {
        "scrolled": true,
        "id": "9159f388",
        "outputId": "4158773e-cf0b-47c8-83c5-998e9b5495b1",
        "colab": {
          "base_uri": "https://localhost:8080/"
        }
      },
      "outputs": [
        {
          "output_type": "stream",
          "name": "stdout",
          "text": [
            "Ingresa un número: 123753569054\n",
            "El mayor numero de la lista es:  9  y su posición es:  8 .\n"
          ]
        }
      ],
      "source": [
        "num = input(\"Ingresa un número: \")\n",
        "\n",
        "lst = [int(i) for i in num]\n",
        "\n",
        "print(\"El mayor numero de la lista es: \", max(lst),  \" y su posición es: \", lst.index(max(lst)), \".\")\n"
      ]
    },
    {
      "cell_type": "markdown",
      "id": "03af9108",
      "metadata": {
        "id": "03af9108"
      },
      "source": [
        "\n",
        "### Problema 4: Valores que coinciden (50xp)\n",
        "\n",
        "Indique las posiciones (índices) en los cuales se encuentran los mismos valores de los dígitos en dos números ingresados por el usuario. El algoritmo debe verificar que los números tengan la misma longitud (igual número de dígitos). Si ninguno de los dígitos de los números coincide, también debe informarlo al usuario. \n",
        "\n",
        "**Ejemplo:**\n",
        "\n",
        "```\n",
        "Ingrese el primer número: 124646272\n",
        "Ingrese el segundo número: 354849136\n",
        "Los números tienen 2 dígitos(s) en común en la(s) posición(es): [2, 4]\n",
        "```\n",
        "\n",
        "**Recomendación:** pruebe su algoritmo con listas de prueba:\n",
        "- `lst_1`: lista que representa el primer número. \n",
        "- `lst_2`: lista que representa el segundo número. \n",
        "\n",
        "**Nota:** para leer un número ingresado por el usuario y convertirlo en lista puede utilizar las siguientes instrucciones:\n",
        "\n",
        "```python\n",
        "num = input('Número: ')\n",
        "lst = [int(x) for x in num]\n",
        "```"
      ]
    },
    {
      "cell_type": "code",
      "execution_count": 69,
      "id": "fdf35177",
      "metadata": {
        "id": "fdf35177",
        "outputId": "4b7f023d-b543-428a-9d14-6693dad954cc",
        "colab": {
          "base_uri": "https://localhost:8080/"
        }
      },
      "outputs": [
        {
          "output_type": "stream",
          "name": "stdout",
          "text": [
            "Ingrese el primer número: 124646272\n",
            "Ingrese el segundo número: 124646272\n",
            "En comun los numeros tienen   9  digitos en las posición(es):  [0, 1, 2, 3, 4, 5, 6, 7, 8] .\n"
          ]
        }
      ],
      "source": [
        "num_1 = input(\"Ingrese el primer número: \")\n",
        "\n",
        "num_2 = input(\"Ingrese el segundo número: \")\n",
        "\n",
        "\n",
        "if len(num_1) != len(num_2):\n",
        "\n",
        "    print(\"Los números no tienen la misma cantidad de valores.\")\n",
        "\n",
        "\n",
        "else:\n",
        "\n",
        "    same_values = []\n",
        "\n",
        "    for i in range(len(num_1)):\n",
        "\n",
        "        if num_1[i] == num_2[i]:\n",
        "\n",
        "            same_values.append(i)\n",
        "\n",
        "    if len(same_values) > 0:\n",
        "      \n",
        "      dig_common = len(same_values)\n",
        "      \n",
        "      print(\"En comun los numeros tienen  \", dig_common, \" digitos en las posición(es): \", same_values, \".\")\n",
        "\n",
        "    else:\n",
        "\n",
        "        print(\"Los números carecen de dígitos en común.\")\n"
      ]
    }
  ],
  "metadata": {
    "kernelspec": {
      "display_name": "Python 3 (ipykernel)",
      "language": "python",
      "name": "python3"
    },
    "language_info": {
      "codemirror_mode": {
        "name": "ipython",
        "version": 3
      },
      "file_extension": ".py",
      "mimetype": "text/x-python",
      "name": "python",
      "nbconvert_exporter": "python",
      "pygments_lexer": "ipython3",
      "version": "3.10.6"
    },
    "colab": {
      "provenance": [],
      "include_colab_link": true
    }
  },
  "nbformat": 4,
  "nbformat_minor": 5
}